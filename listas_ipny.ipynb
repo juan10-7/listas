{
  "nbformat": 4,
  "nbformat_minor": 0,
  "metadata": {
    "colab": {
      "provenance": [],
      "authorship_tag": "ABX9TyNT/8el+OPc2RPq1Yw0yWQ/",
      "include_colab_link": true
    },
    "kernelspec": {
      "name": "python3",
      "display_name": "Python 3"
    },
    "language_info": {
      "name": "python"
    }
  },
  "cells": [
    {
      "cell_type": "markdown",
      "metadata": {
        "id": "view-in-github",
        "colab_type": "text"
      },
      "source": [
        "<a href=\"https://colab.research.google.com/github/juan10-7/listas/blob/main/listas_ipny.ipynb\" target=\"_parent\"><img src=\"https://colab.research.google.com/assets/colab-badge.svg\" alt=\"Open In Colab\"/></a>"
      ]
    },
    {
      "cell_type": "markdown",
      "source": [
        "# listas\n",
        "* una lista hace referencia a una coleccion de datos que pueden ser numeros,cadenas o algun otro tipo.\n",
        "-son colecciones ordenadas de datos, lo que implica que importa el orden en el quese encuentran sus elementos.\n",
        "* el primer elemento ocupa la posicion 0, el segundo la 1 y así sucesivamente.\n",
        "* son mutables:una vez creada la ista esta puede ser modificada se le pueden agregar o quitar elementos en python esta representadas por el tipo ***LIST*** y para definirlas se utilizan las siguientes sintaxis:\n",
        "\n",
        "```nombre_lista = [valor1,valor2,...,valorn]```\n",
        "\n",
        "* los elementos pueden ser de cualquier tipo,incluso puede haber tipos diferente en una lista\n",
        "- tambien es posible crear una lista usando el constructor ``list()``"
      ],
      "metadata": {
        "id": "AyhC5FwBCjQo"
      }
    },
    {
      "cell_type": "code",
      "execution_count": 3,
      "metadata": {
        "colab": {
          "base_uri": "https://localhost:8080/"
        },
        "collapsed": true,
        "id": "PdlCp_rjCZ8z",
        "outputId": "4b98d0fb-1a91-4bfb-ddf3-19f0e3ed3981"
      },
      "outputs": [
        {
          "output_type": "stream",
          "name": "stdout",
          "text": [
            "['lunes', 'martes', 'miercoles', 'jueves', 'viernes', 'sabado', 'domingo']\n",
            "['rojo', 'azul', 'amarillo']\n",
            "[205, 30, 107, 18, 25, 450, 319, 89, 170, 23, 349]\n",
            "<class 'list'>\n",
            "[0, 2, 4, 6, 8, 10, 12, 14, 16, 18, 20, 22, 24, 26, 28]\n",
            "[29, 27, 25, 23, 21, 19, 17, 15, 13, 11, 9, 7, 5, 3, 1]\n",
            "['n', 'e', 's', 't', 'o', 'r', ' ', 'j', 'e', 's', 'u', 's']\n",
            "['nestor', 'jesus', 'paez', 'sarmiento']\n"
          ]
        }
      ],
      "source": [
        "# ejemplo 1\n",
        "\n",
        "# ==========================\n",
        "\n",
        "#usando los [] y dando valores para iniciar la lista\n",
        "\n",
        "# ==========================\n",
        "\n",
        "dias_semana = ['lunes','martes','miercoles','jueves','viernes','sabado','domingo']\n",
        "print(dias_semana)\n",
        "\n",
        "colores_primarios = ['rojo','azul','amarillo']\n",
        "print(colores_primarios)\n",
        "\n",
        "precios = [205,30,107,18,25,450,319,89,170,23,349]\n",
        "print(precios)\n",
        "print(type(precios))\n",
        "nezcolanza = [12, \"octubre\",1942, True]\n",
        "lista_vacia = []\n",
        "\n",
        "\n",
        "# ======================================\n",
        "# usando el constructor list()\n",
        "# ======================================\n",
        "\n",
        "lista_vacia_2 = list()\n",
        "lista_3=list(range(0, 30, 2))\n",
        "print(lista_3)\n",
        "\n",
        "lista_4=list(range(29, 0, -2))\n",
        "print(lista_4)\n",
        "\n",
        "lista_5=list(\"nestor jesus\")\n",
        "print(lista_5)\n",
        "\n",
        "frase=\"nestor jesus paez sarmiento\"\n",
        "lista_6=frase.split()\n",
        "print(lista_6)\n",
        "\n",
        "\n",
        "\n",
        "\n",
        "\n",
        "\n"
      ]
    },
    {
      "cell_type": "markdown",
      "source": [
        "## operaciones\n",
        "### operador +\n",
        "concatenar los elementos de una lista al final de otras\n",
        "\n",
        "### operador +\n",
        "\n",
        "- se utiliza para repetir la secuencia de elementos de la lista tantas veces como lo indique el valor que lo acompaña\n",
        "\n"
      ],
      "metadata": {
        "id": "QmSbGV2yQyzp"
      }
    },
    {
      "cell_type": "code",
      "source": [
        "dias_semana = ['lunes','martes','miercoles','jueves','viernes','sabado','domingo']\n",
        "\n",
        "\n",
        "colores_primarios = ['rojo','azul','amarillo']\n",
        "\n",
        "\n",
        "precios = [205,30,107,18,25,450,319,89,170,23,349]\n",
        "\n",
        "# acceso a los elementos de una lista\n",
        "\n",
        "print(dias_semana[0])\n",
        "print(dias_semana[-1])\n",
        "print(dias_semana[-5])\n",
        "\n",
        "# operador +\n",
        "\n",
        "fin_semana = [\"sabado\",\"domingo\"]\n",
        "semana = dias_semana + fin_semana\n",
        "print(semana)\n",
        "\n",
        "colores_repetidos=colores_primarios*3\n",
        "print(colores_repetidos)"
      ],
      "metadata": {
        "colab": {
          "base_uri": "https://localhost:8080/"
        },
        "collapsed": true,
        "id": "9t2o4mpQRj-H",
        "outputId": "81bb5238-7b62-4b98-c97d-9dec4c8395c8"
      },
      "execution_count": 4,
      "outputs": [
        {
          "output_type": "stream",
          "name": "stdout",
          "text": [
            "lunes\n",
            "domingo\n",
            "miercoles\n",
            "['lunes', 'martes', 'miercoles', 'jueves', 'viernes', 'sabado', 'domingo', 'sabado', 'domingo']\n",
            "['rojo', 'azul', 'amarillo', 'rojo', 'azul', 'amarillo', 'rojo', 'azul', 'amarillo']\n"
          ]
        }
      ]
    },
    {
      "cell_type": "markdown",
      "source": [
        "## funciones asociadas a listas\n"
      ],
      "metadata": {
        "id": "QxfQ27aqUJpb"
      }
    },
    {
      "cell_type": "code",
      "source": [
        "dias_semana = ['lunes','martes','miercoles','jueves','viernes','sabado','domingo']\n",
        "\n",
        "\n",
        "colores_primarios = ['rojo','azul','amarillo']\n",
        "\n",
        "\n",
        "precios = [205,30,107,18,25,450,319,89,170,23,349]\n",
        "\n",
        "pares = list(range(0, 30, 2))\n",
        "\n",
        "impares = list(range(29, 0, -2))\n",
        "\n",
        "colores_repetidos=colores_primarios*3\n",
        "\n",
        "#append(): agega un elemento al final de la lista\n",
        "dias_semana.append(\"sabado\")\n",
        "print(dias_semana)\n",
        "\n",
        "# len(): total de elementos de la lista\n",
        "print(\"total de precios = \",len(precios))\n",
        "\n",
        "# count(): cuenta el numero de veces que aparece un elemento en la lista\n",
        "print(f\"el lunes aparece {dias_semana.count('lunes')} vez (veces)\")\n",
        "\n",
        "# insert(): agrega en la posicion indicada por el indice el nuevo valor,desplazando los demas elementos hacia derecha. si e indice es mayor al tamaño de la lista,lo agrega al final\n",
        "colores_primarios.insert(2, \"verde\")\n",
        "print(colores_primarios)\n",
        "\n",
        "# remove(): quita el elemento de la lista. si el elemento no esta lanza una excepcion\n",
        "dias_semana.remove(\"sabado\")\n",
        "print(dias_semana)\n",
        "\n",
        "# sort(): ordena la lista de menor a mayor\n",
        "precios.sort()\n",
        "print(precios)\n",
        "precios.sort(reverse=True)\n",
        "print(precios)\n",
        "\n",
        "#reverse():\n",
        "dias_semana.reverse\n",
        "print(dias_semana)\n",
        "\n",
        "# pop():\n",
        "dias_semana.pop = ['lunes','martes','miercoles','jueves','viernes','sabado','domingo']\n",
        "print(dias_semana)\n",
        "\n",
        "# clear():\n",
        "\n",
        "# del():\n",
        "\n",
        "\n",
        "\n"
      ],
      "metadata": {
        "colab": {
          "base_uri": "https://localhost:8080/",
          "height": 404
        },
        "collapsed": true,
        "id": "2TGFhB_OUVGC",
        "outputId": "fe0f3316-4279-4853-ff80-64f30993af1e"
      },
      "execution_count": 7,
      "outputs": [
        {
          "output_type": "stream",
          "name": "stdout",
          "text": [
            "['lunes', 'martes', 'miercoles', 'jueves', 'viernes', 'sabado', 'domingo', 'sabado']\n",
            "total de precios =  11\n",
            "el lunes aparece 1 vez (veces)\n",
            "['rojo', 'azul', 'verde', 'amarillo']\n",
            "['lunes', 'martes', 'miercoles', 'jueves', 'viernes', 'domingo', 'sabado']\n",
            "[18, 23, 25, 30, 89, 107, 170, 205, 319, 349, 450]\n",
            "[450, 349, 319, 205, 170, 107, 89, 30, 25, 23, 18]\n"
          ]
        },
        {
          "output_type": "error",
          "ename": "AttributeError",
          "evalue": "'list' object attribute 'reverse' is read-only",
          "traceback": [
            "\u001b[0;31m---------------------------------------------------------------------------\u001b[0m",
            "\u001b[0;31mAttributeError\u001b[0m                            Traceback (most recent call last)",
            "\u001b[0;32m<ipython-input-7-0fa47702b0d6>\u001b[0m in \u001b[0;36m<cell line: 0>\u001b[0;34m()\u001b[0m\n\u001b[1;32m     38\u001b[0m \u001b[0;34m\u001b[0m\u001b[0m\n\u001b[1;32m     39\u001b[0m \u001b[0;31m#reverse():\u001b[0m\u001b[0;34m\u001b[0m\u001b[0;34m\u001b[0m\u001b[0m\n\u001b[0;32m---> 40\u001b[0;31m \u001b[0mdias_semana\u001b[0m\u001b[0;34m.\u001b[0m\u001b[0mreverse\u001b[0m \u001b[0;34m=\u001b[0m \u001b[0;34m[\u001b[0m\u001b[0;34m'lunes'\u001b[0m\u001b[0;34m,\u001b[0m\u001b[0;34m'martes'\u001b[0m\u001b[0;34m,\u001b[0m\u001b[0;34m'miercoles'\u001b[0m\u001b[0;34m,\u001b[0m\u001b[0;34m'jueves'\u001b[0m\u001b[0;34m,\u001b[0m\u001b[0;34m'viernes'\u001b[0m\u001b[0;34m,\u001b[0m\u001b[0;34m'sabado'\u001b[0m\u001b[0;34m,\u001b[0m\u001b[0;34m'domingo'\u001b[0m\u001b[0;34m]\u001b[0m\u001b[0;34m\u001b[0m\u001b[0;34m\u001b[0m\u001b[0m\n\u001b[0m\u001b[1;32m     41\u001b[0m \u001b[0mprint\u001b[0m\u001b[0;34m(\u001b[0m\u001b[0mdias_semana\u001b[0m\u001b[0;34m)\u001b[0m\u001b[0;34m\u001b[0m\u001b[0;34m\u001b[0m\u001b[0m\n\u001b[1;32m     42\u001b[0m \u001b[0;34m\u001b[0m\u001b[0m\n",
            "\u001b[0;31mAttributeError\u001b[0m: 'list' object attribute 'reverse' is read-only"
          ]
        }
      ]
    },
    {
      "cell_type": "markdown",
      "source": [
        "## participacion o divicion de listas (slicing o rebenadas)\n",
        "-se pueden genera sublistas a partir de una lista por medio de la participacion\n",
        "(division) o slicing\n",
        "-para obtener una sublista se usa la sintaxis: ```sublista = lista(inicio:fin:n)```"
      ],
      "metadata": {
        "id": "2WbznpcVf7oB"
      }
    },
    {
      "cell_type": "code",
      "source": [
        "from re import sub\n",
        "# se crea una lista de numeros enteross\n",
        "lista_1 = (1,2,3,4,5,6)\n",
        "\n",
        "# sublista con los elementos de las posiciones 0 a la 2 inclusive\n",
        "sublista_1 = lista_1(0:3)\n",
        "print(sublista_1)\n",
        "\n",
        "# sublista con los elementos 0 al 3 inclusive\n",
        "sublista_2 = lista(:4)\n",
        "print(sublista_2)\n",
        "\n",
        "# sublista con los elementos 3 a la 5 inclusive\n",
        "sublista_3 = lista_1[3:]\n",
        "print(sublista_3)\n",
        "\n",
        "# sublista con los melementos desde el inicio hasta el final,con saltos de a 2\n",
        "sublista_4 = lista_1[::2]\n",
        "print(sublista_4)\n",
        "\n",
        "\n",
        "\n",
        "\n",
        "\n",
        "\n",
        "\n",
        "\n",
        "\n"
      ],
      "metadata": {
        "id": "pjNrp3cJhJ3K"
      },
      "execution_count": null,
      "outputs": []
    },
    {
      "cell_type": "markdown",
      "source": [
        "## listas por comprension\n",
        "- son las listas creadas por la aplicacion de una operacion a cada uno de los mienbros de una secuencia\n",
        "- sintaxis: ```lista = (operacion for elemento in secuencia)``\n",
        "\n",
        "- la expresion se escribe entre [] y esta formado por la operacion que quiere aplicase a los elementos de la secuencia, seguida de la instruccion for,qu impide la secuencia\n"
      ],
      "metadata": {
        "id": "UA59YKW0lPk5"
      }
    },
    {
      "cell_type": "code",
      "source": [
        "# a parti de una cadena de caractere\n",
        "\n",
        "frase = \"juan\"\n",
        "lista_mayusculas = [letra.upper() for letra in frase]\n",
        "print(lista_mayusculas)\n",
        "\n",
        "# a partir de una tupla\n",
        "tupla = (2,5,8,10)\n",
        "lista_cuadrados = [numero**2 for  numero in tupla]\n",
        "print(lista_cuadrados)\n",
        "\n",
        "# a partir de una lista\n",
        "lista_pares = (2,4,6,8,10)\n",
        "lista_cubos_pares = [par**3 for par in lista_pares]\n",
        "print(lista_cubos_pares)\n",
        "\n",
        "\n",
        "\n",
        "\n"
      ],
      "metadata": {
        "colab": {
          "base_uri": "https://localhost:8080/"
        },
        "id": "nGsOzhi4mSIq",
        "outputId": "18be2b00-a200-434d-8821-418e4275ef86"
      },
      "execution_count": 9,
      "outputs": [
        {
          "output_type": "stream",
          "name": "stdout",
          "text": [
            "['J', 'U', 'A', 'N']\n",
            "[4, 25, 64, 100]\n",
            "[8, 64, 216, 512, 1000]\n"
          ]
        }
      ]
    }
  ]
}